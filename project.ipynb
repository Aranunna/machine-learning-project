{
 "cells":[
  {
   "cell_type":"markdown",
   "source":[
    "# Editor"
   ],
   "attachments":{
    
   },
   "metadata":{
    "datalore":{
     "node_id":"Editor",
     "type":"MD",
     "hide_input_from_viewers":false,
     "hide_output_from_viewers":false,
     "sheet_delimiter":true
    }
   }
  },
  {
   "cell_type":"code",
   "source":[
    "print(\"Welcome to Datalore!\")"
   ],
   "execution_count":null,
   "outputs":[
    
   ],
   "metadata":{
    "datalore":{
     "node_id":"38y7jTgE9cOMt9rAFokr8s",
     "type":"CODE",
     "hide_input_from_viewers":true,
     "hide_output_from_viewers":false,
     "report_properties":{
      "rowId":"HxNhleO9acH4lzphHV724G"
     }
    }
   }
  },
  {
   "cell_type":"markdown",
   "source":[
    "# Getting Started Notebook\n",
    "\n",
    "Welcome to Datalore! This tutorial will help you understand the basics of the platform and start working with it.\n",
    "\n",
    "**Datalore** is the collaborative data science platform developed by JetBrains.\n",
    "\n",
    "This tutorial is a great place to learn about major Datalore features. If you want more information, you can:\n",
    "- Visit our [Documentation](https:\/\/www.jetbrains.com\/help\/datalore\/datalore-quickstart.html) for guides on specific features.\n",
    "- Subscribe to the [Datalore's blog](https:\/\/blog.jetbrains.com\/datalore\/). You will receive emails about feature announcements and Datalore tutorials!"
   ],
   "attachments":{
    
   },
   "metadata":{
    "datalore":{
     "node_id":"b0PlGeKUN03L4qbop9rwpK",
     "type":"MD",
     "hide_input_from_viewers":false,
     "hide_output_from_viewers":false,
     "report_properties":{
      "rowId":"O6onNO6MfzPrwRrgYAnOAH"
     }
    }
   }
  },
  {
   "cell_type":"markdown",
   "source":[
    "## Watch this 2-minute Datalore overview video!\n",
    "<div align=\"center\"><video width=\"800\" height=\"450\" controls>\n",
    "\n",
    "<source src=\"https:\/\/datalore-samples.s3.eu-west-1.amazonaws.com\/getting-started\/videos_new\/Quick+Datalore+Overview.mp4\" type=\"video\/mp4\">\n",
    "\n",
    "<\/video><\/div>"
   ],
   "attachments":{
    
   },
   "metadata":{
    "datalore":{
     "node_id":"sQxnIuCeE0kaOcBWGTyUeh",
     "type":"MD",
     "hide_input_from_viewers":false,
     "hide_output_from_viewers":false,
     "report_properties":{
      "rowId":"ouiQ32wS1aFCMFWiOFFVV8"
     }
    }
   }
  },
  {
   "cell_type":"code",
   "source":[
    "message = \"😍🚀🙏🏻\""
   ],
   "execution_count":null,
   "outputs":[
    
   ],
   "metadata":{
    "datalore":{
     "node_id":"Wcm1Qn9KUjgxnAfUsDY0mj",
     "type":"CONTROL",
     "hide_input_from_viewers":false,
     "hide_output_from_viewers":false,
     "report_properties":{
      "rowId":"lpZmOvd9yxF7IGmNXVBfBb"
     },
     "controls_state":[
      {
       "type":"INPUT",
       "label":"How are you today?",
       "variable":"message",
       "value":"😍🚀🙏🏻",
       "multiline":false
      }
     ]
    }
   }
  },
  {
   "cell_type":"code",
   "source":[
    "print(\"Hi, Datalore! I'm feeling \" + message)"
   ],
   "execution_count":null,
   "outputs":[
    
   ],
   "metadata":{
    "datalore":{
     "node_id":"WqFWoYBfavNlsUD0fQP8sG",
     "type":"CODE",
     "hide_input_from_viewers":false,
     "hide_output_from_viewers":false,
     "report_properties":{
      "rowId":"Di8laBbj9Ky4EtQTMhJG0X"
     }
    }
   }
  },
  {
   "cell_type":"markdown",
   "source":[
    "💡 This tutorial is split into **worksheets**, and it is the first cool feature of the Datalore Editor!\n",
    "Just navigate through the tabs at the bottom of the editor or use the Table of contents on the left-hand sidebar.\n",
    "\n",
    "<div><img src=\"https:\/\/datalore-samples.s3.eu-west-1.amazonaws.com\/getting-started\/videos_new\/worksheets.png\" width = 900 border=\"2\" style=\"border-color: #d3d3d3; margin-top: 1%;\"\/><\/div>"
   ],
   "attachments":{
    
   },
   "metadata":{
    "datalore":{
     "node_id":"B0yf3j6P4Zz4K5I3WMpgOK",
     "type":"MD",
     "hide_input_from_viewers":false,
     "hide_output_from_viewers":false,
     "report_properties":{
      "rowId":"EZDPOW2QysAiXIy9yAiYEZ"
     }
    }
   }
  },
  {
   "cell_type":"markdown",
   "source":[
    "## Video tutorial: Notebook Editor\n",
    "\n",
    "<div align=\"center\"><video width=\"800\" height=\"450\" controls>\n",
    "\n",
    "<source src=\"https:\/\/datalore-samples.s3.eu-west-1.amazonaws.com\/getting-started\/videos_new\/1_Datalore_Editor+Overview.mp4\" type=\"video\/mp4\">\n",
    "\n",
    "<\/video><\/div>"
   ],
   "attachments":{
    
   },
   "metadata":{
    "datalore":{
     "node_id":"xImM2eWnUluYtOpEeLzvvd",
     "type":"MD",
     "hide_input_from_viewers":false,
     "hide_output_from_viewers":false,
     "report_properties":{
      "rowId":"Aqga6pNGB4R4qKvfH1Rvqw"
     }
    }
   }
  },
  {
   "cell_type":"markdown",
   "source":[
    "## Cells\n",
    "\n",
    "Inside the notebook you can add:\n",
    "\n",
    "- **Python code cells**, where you can use powerful coding assistance features such as code completion, quick-fixes, documentation popups, refactorings, and more. Code cells also support IPython magic commands.\n",
    "- **SQL cells** with code completion for both SQL syntax and database column names. The query result of a SQL cell is automatically transferred to the pandas dataframe.\n",
    "- **Markdown cells** with a text formatting toolbar and LaTeX support.\n",
    "- **Interactive controls** such as Dropdowns, Sliders, Text inputs, Checkboxes, Date pickers, Metric cells, Chart cells, and visibility controls.\n",
    "\n",
    "To add a new cell, hover over the bottom center of a cell and choose the cell type you want to add. \n",
    "Check out the [Shortcuts 101](.\/#Shortcuts-101) tab for a collection of the most useful shortcuts in Datalore.\n",
    "\n",
    "<div><img src=\"https:\/\/datalore-samples.s3.eu-west-1.amazonaws.com\/getting-started\/videos_new\/add_cell2.png\" width = 600 border=\"2\" style=\"border-color: #d3d3d3; margin-top: 1%;\"\/><\/div>"
   ],
   "attachments":{
    
   },
   "metadata":{
    "datalore":{
     "node_id":"hSGZmx2LhqpTN5lTyGgHH3",
     "type":"MD",
     "hide_input_from_viewers":false,
     "hide_output_from_viewers":false,
     "report_properties":{
      "rowId":"NS4Qy1m4TFhZUtCYLRljpi"
     }
    }
   }
  },
  {
   "cell_type":"markdown",
   "source":[
    "## Essential tools on the Left-hand sidebar\n",
    "\n",
    "You can access the most important Datalore features from the left-hand sidebar menu:\n",
    "- Configure the environment and install additional packages inside the **Environment** tab.\n",
    "- Upload data files and connect databases and S3 buckets from the **Attached data** tab.\n",
    "- See machine statistics, and configure Background computation and Scheduled runs from the **Computation** tab.\n",
    "- Navigate through the notebook using the **Table of contents** tab.\n",
    "- Browse variable contents from the **Variable viewer** tab.\n",
    "\n",
    "<div><img src=\"https:\/\/datalore-samples.s3.eu-west-1.amazonaws.com\/getting-started\/videos_new\/left_sidebar2.png\" title = \"Computation tab in the left-hand sidebar\" width = 600 border=\"2\" style=\"border-color: #d3d3d3; margin-top: 1%;\" \/><\/div>"
   ],
   "attachments":{
    
   },
   "metadata":{
    "datalore":{
     "node_id":"rrATKmyFywamadgmPpESi4",
     "type":"MD",
     "hide_input_from_viewers":false,
     "hide_output_from_viewers":false,
     "report_properties":{
      "rowId":"8MMdD2kWk5JBVQwfPB8vfn"
     }
    }
   }
  },
  {
   "cell_type":"markdown",
   "source":[
    "**Now please switch to the second worksheet tab: Data**"
   ],
   "attachments":{
    
   },
   "metadata":{
    "datalore":{
     "node_id":"M4rw6Y8dQEoOjPyCPQSUD5",
     "type":"MD",
     "hide_input_from_viewers":false,
     "hide_output_from_viewers":false,
     "report_properties":{
      "rowId":"hTBjwrM2GYZGnbnjfbzSS0"
     }
    }
   }
  },
  {
   "cell_type":"markdown",
   "source":[
    "# Data"
   ],
   "attachments":{
    
   },
   "metadata":{
    "datalore":{
     "node_id":"Data",
     "type":"MD",
     "hide_input_from_viewers":false,
     "hide_output_from_viewers":false,
     "sheet_delimiter":true
    }
   }
  },
  {
   "cell_type":"markdown",
   "source":[
    "# Working with data\n",
    "## Video tutorial\n",
    "\n",
    "<div align=\"center\"><video width=\"800\" height=\"450\" controls>\n",
    "\n",
    "<source src=\"https:\/\/datalore-samples.s3.eu-west-1.amazonaws.com\/getting-started\/videos_new\/2_Working_with_Data.mp4\">\n",
    "\n",
    "<\/video><\/div>"
   ],
   "attachments":{
    
   },
   "metadata":{
    "datalore":{
     "node_id":"wJ5CdYHXwDlfubAFkXCcFF",
     "type":"MD",
     "hide_input_from_viewers":false,
     "hide_output_from_viewers":false,
     "report_properties":{
      "rowId":"m6SX6lWJzut5WjJYRhIOju"
     }
    }
   }
  },
  {
   "cell_type":"markdown",
   "source":[
    "\n",
    "## Plug in multiple data sources\n",
    "\n",
    "In Datalore you can work with **various data sources** together in one notebook. \n",
    "\n",
    "You can connect your **SQL databases** (such as MySQL, Snowflake, PostgreSQL, Redshift, etc.), **bucket storages** (AWS S3, GCS buckets), and **files** (any file types) from the interface and further query and join them in one notebook.\n",
    "\n",
    "To manage all your data, please use the **Attached data** tab in the left-hand sidebar.\n",
    "\n",
    "<div><img src=\"https:\/\/datalore-samples.s3.eu-west-1.amazonaws.com\/getting-started\/videos_new\/many_datasets2.png\" width = 1000 border=\"2\" style=\"border-color: #d3d3d3; margin-top: 1%;\"\/><\/div>"
   ],
   "attachments":{
    
   },
   "metadata":{
    "datalore":{
     "node_id":"I8HY4c0f6NTSQ5KEra08YE",
     "type":"MD",
     "hide_input_from_viewers":false,
     "hide_output_from_viewers":false,
     "report_properties":{
      "rowId":"Ocma96WS02nQnhgOuRH0LK"
     }
    }
   }
  },
  {
   "cell_type":"markdown",
   "source":[
    "## Reusing data connections\n",
    "\n",
    "When creating a bucket or a database connection, you’ll be able to reuse it across other notebooks in the same workspace.\n",
    "\n",
    "You can manage all of the attached data sources from the workspace file system and add new connections directly from the notebook interface.\n",
    "\n",
    "When you share a notebook or a workspace, your credentials **are not exposed to the environment**.\n",
    "\n",
    "<div><img src=\"https:\/\/datalore-samples.s3.eu-west-1.amazonaws.com\/getting-started\/videos_new\/manage_datasources2.png\" width = 600 border=\"2\" style=\"border-color: #d3d3d3; margin-top: 1%;\"\/><\/div>"
   ],
   "attachments":{
    
   },
   "metadata":{
    "datalore":{
     "node_id":"4IW3lCEfirwXoZxBBfd8Op",
     "type":"MD",
     "hide_input_from_viewers":false,
     "hide_output_from_viewers":false,
     "report_properties":{
      "rowId":"Yj8BmsMAKsufEB8U7Qke5k"
     }
    }
   }
  },
  {
   "cell_type":"markdown",
   "source":[
    "## Persistent file storage\n",
    "\n",
    "Datalore comes with persistent storage for each notebook. This means you can upload your data files directly to **Notebook files**. If you want to share a file across multiple notebooks, attach **Workspace files** to the notebook and upload it there. Workspace files are mounted under the `\/data\/workspace_files\/` directory.\n",
    "\n",
    "### Benefits of attaching files to a notebook\n",
    "\n",
    "- Your workspace file system won't be cluttered with too many files.\n",
    "- Notebook files are shared automatically when you invite collaborators to the notebook.\n",
    "\n",
    "Additionally, you can download data to Notebook or Workspace files or to store it in memory using various Python packages and APIs."
   ],
   "attachments":{
    
   },
   "metadata":{
    "datalore":{
     "node_id":"bdV0X2LHINh52AJz4b5qni",
     "type":"MD",
     "hide_input_from_viewers":false,
     "hide_output_from_viewers":false,
     "report_properties":{
      "rowId":"OGCjUj65RtGqZ3XfYea19x"
     }
    }
   }
  },
  {
   "cell_type":"markdown",
   "source":[
    "## Dataframe exploration\n",
    "\n",
    "Whenever a pandas dataframe is the result of your cell execution, you get additional tabs in the cell output:\n",
    "- **Table** – a scrollable table view of your data\n",
    "- **Raw** – this tab represents the raw output without the ability to scroll the data\n",
    "- **Visualize** – this tab brings out-of-the box plots to help you visually explore the data\n",
    "- **Statistics** – this tab provides essential descriptive statistics for your dataframe\n",
    "\n",
    "### Task: **Run the code cell above** and navigate to the **Visualize** and **Statistics** tabs!\n",
    "\n",
    "<div><img src=\"https:\/\/datalore-samples.s3.eu-west-1.amazonaws.com\/getting-started\/videos_new\/statistics_new2.png\" width = 600 border=\"2\" style=\"border-color: #d3d3d3; margin-top: 1%;\"\/><\/div>\n"
   ],
   "attachments":{
    
   },
   "metadata":{
    "datalore":{
     "node_id":"rcVYBWbunldyJbSlYDgEfd",
     "type":"MD",
     "hide_input_from_viewers":false,
     "hide_output_from_viewers":false,
     "report_properties":{
      "rowId":"Tbr9F7SRNWKEIvcN2rH9fB"
     }
    }
   }
  },
  {
   "cell_type":"code",
   "source":[
    "import urllib\n",
    "import pandas as pd\n",
    "\n",
    "urllib.request.urlretrieve('https:\/\/datalore-samples.s3.eu-west-1.amazonaws.com\/datalore_gallery_of_samples\/Getting+started\/gpus.csv', 'gpus.csv')\n",
    "\n",
    "data = pd.read_csv(\"gpus.csv\")\n",
    "data"
   ],
   "execution_count":null,
   "outputs":[
    
   ],
   "metadata":{
    "datalore":{
     "node_id":"BQzAXyERLQRmj4k0OUevVS",
     "type":"CODE",
     "hide_input_from_viewers":false,
     "hide_output_from_viewers":false,
     "report_properties":{
      "rowId":"PoHDDfOHgiYQpoA6K4PdbL"
     }
    }
   }
  },
  {
   "cell_type":"markdown",
   "source":[
    "## Viewing and editing attached files\n",
    "\n",
    "Double-clicking on a .csv or text file opens it for editing in the right sidebar editor and lets you view the file and edit its contents.\n",
    "\n",
    "<div><img src=\"https:\/\/datalore-samples.s3.eu-west-1.amazonaws.com\/getting-started\/videos_new\/edit_csv_new2.png\" width = 600 border=\"2\" style=\"border-color: #d3d3d3; margin-top: 1%;\"\/><\/div>\n",
    "\n",
    "If you open a .py script, you will also get smart coding assistance features for editing its contents.\n",
    "\n",
    "<div><img src=\"https:\/\/datalore-samples.s3.eu-west-1.amazonaws.com\/getting-started\/videos_new\/python_func2.png\" width = 600 border=\"2\" style=\"border-color: #d3d3d3; margin-top: 1%;\"\/><\/div>"
   ],
   "attachments":{
    
   },
   "metadata":{
    "datalore":{
     "node_id":"XqLqSdttRC69qHPIs8L0mo",
     "type":"MD",
     "hide_input_from_viewers":false,
     "hide_output_from_viewers":false,
     "report_properties":{
      "rowId":"iY2bMptJAAC0lYCogV3M1E"
     }
    }
   }
  },
  {
   "cell_type":"markdown",
   "source":[
    "# Environment"
   ],
   "attachments":{
    
   },
   "metadata":{
    "datalore":{
     "node_id":"Environment",
     "type":"MD",
     "hide_input_from_viewers":false,
     "hide_output_from_viewers":false,
     "sheet_delimiter":true
    }
   }
  },
  {
   "cell_type":"markdown",
   "source":[
    "# Managing the environment"
   ],
   "attachments":{
    
   },
   "metadata":{
    "datalore":{
     "node_id":"zbTp9bD1SAs9lc3uB2s9bQ",
     "type":"MD",
     "hide_input_from_viewers":false,
     "hide_output_from_viewers":false,
     "report_properties":{
      "rowId":"Rp8DDUpHIJnI6tmQYq5GAF"
     }
    }
   }
  },
  {
   "cell_type":"markdown",
   "source":[
    "## Video tutorial\n",
    "\n",
    "<div align=\"center\"><video width=\"800\" height=\"450\" controls>\n",
    "\n",
    "<source src=\"https:\/\/datalore-samples.s3.eu-west-1.amazonaws.com\/getting-started\/videos_new\/3_Configuring_Environment_in_Datalore.mp4\">\n",
    "\n",
    "<\/video><\/div>"
   ],
   "attachments":{
    
   },
   "metadata":{
    "datalore":{
     "node_id":"PoRmZDjtLdROtBGZOAKVG5",
     "type":"MD",
     "hide_input_from_viewers":false,
     "hide_output_from_viewers":false,
     "report_properties":{
      "rowId":"RwLeZ7JFpdPlY0uEvTRucT"
     }
    }
   }
  },
  {
   "cell_type":"markdown",
   "source":[
    "## Preconfigured environment\n",
    "\n",
    "Each notebook in Datalore has an **isolated environment**. This means that when you apply changes to one notebook, they won't affect any of the other notebook environments.\n",
    "\n",
    "Datalore comes with a lot of **Python libraries pre-installed**.\n",
    "\n",
    "We've already installed `pandas`, `NumPy`, `sklearn`, `MatplotLib`, and `Seaborn`, so you can start importing the package you need right away.\n",
    "\n",
    "Datalore supports both the **pip** and **Conda** package managers. Pip is chosen by default, but you can always switch to Conda.\n",
    "\n",
    "<div><img src=\"https:\/\/datalore-samples.s3.eu-west-1.amazonaws.com\/getting-started\/videos_new\/environment_tab.png\" width = 300 border=\"2\" style=\"border-color: #d3d3d3; margin-top: 1%;\"\/><\/div>\n",
    "\n",
    "## Installing additional libraries\n",
    "\n",
    "- To install additional libraries, upgrade package versions, and remove libraries, go to *Environment | Explore tab*. The changes will be written into the .yaml file, which will be stored in your Notebook files.\n",
    "- To install a package from a Git repository, go to *Environment | Repositories*.\n",
    "- To install any other dependencies (f.e. non-python dependencies), you can modify the `init.sh` file. It will run before the environment is installed.\n",
    "  \n",
    "💡 Packages installed via the **Environment** tab are **persisted** when you reopen notebooks. You can also install packages using **pip magic commands** or ***Terminal***, but they won't be persisted.\n",
    "\n",
    "You can learn more about this in the [Environment manager documentation.](https:\/\/www.jetbrains.com\/help\/datalore\/environment.html)"
   ],
   "attachments":{
    
   },
   "metadata":{
    "datalore":{
     "node_id":"zogriwZb6Hu6P4Q8bVlNgW",
     "type":"MD",
     "hide_input_from_viewers":false,
     "hide_output_from_viewers":false,
     "report_properties":{
      "rowId":"HKjpQ1cA3LnWge0PffgGOk"
     }
    }
   }
  },
  {
   "cell_type":"markdown",
   "source":[
    "### Task: Install and import the `datasets` library\n",
    "\n",
    "1. Run the code cell below using `Shift+Enter`.\n",
    "2. **Click on the prompt in the error log to search for the datasets library. This prompt will open the *Explore tab* of the *Environment manager*.**\n",
    "3. Click on the datasets library.\n",
    "4. Click the Install button.\n",
    "5. Restart the kernel.\n",
    "6. Rerun the cell."
   ],
   "attachments":{
    
   },
   "metadata":{
    "datalore":{
     "node_id":"eFlMwuuq2w6352zrWeFeYo",
     "type":"MD",
     "hide_input_from_viewers":false,
     "hide_output_from_viewers":false,
     "report_properties":{
      "rowId":"meZoBjby5m7WI6pE1c6I6n"
     }
    }
   }
  },
  {
   "cell_type":"code",
   "source":[
    "import datasets\n",
    "\n",
    "datasets.__version__"
   ],
   "execution_count":null,
   "outputs":[
    
   ],
   "metadata":{
    "datalore":{
     "node_id":"6FGwh5yJFlgD0fITlgL5AJ",
     "type":"CODE",
     "hide_input_from_viewers":false,
     "hide_output_from_viewers":false,
     "report_properties":{
      "rowId":"Fb3reR6Rw0oYoJzhjCaLjY"
     }
    }
   }
  },
  {
   "cell_type":"markdown",
   "source":[
    "# Sharing"
   ],
   "attachments":{
    
   },
   "metadata":{
    "datalore":{
     "node_id":"Sharing",
     "type":"MD",
     "hide_input_from_viewers":false,
     "hide_output_from_viewers":false,
     "sheet_delimiter":true
    }
   }
  },
  {
   "cell_type":"markdown",
   "source":[
    "# Collaborating with your team\n",
    "\n",
    "## Video tutorial\n",
    "\n",
    "<div align=\"center\"><video width=\"800\" height=\"450\" controls>\n",
    "\n",
    "<source src=\"https:\/\/datalore-samples.s3.eu-west-1.amazonaws.com\/getting-started\/videos_new\/4_Sharing_Notebooks_and_Workspaces_in_Datalore.mp4\">\n",
    "\n",
    "<\/video><\/div>"
   ],
   "attachments":{
    
   },
   "metadata":{
    "datalore":{
     "node_id":"WEJAKS0YfmX6j9BonPFogz",
     "type":"MD",
     "hide_input_from_viewers":false,
     "hide_output_from_viewers":false,
     "report_properties":{
      "rowId":"pByJ8u5c7MAvxODWpt9BDW"
     }
    }
   }
  },
  {
   "cell_type":"markdown",
   "source":[
    "## Sharing a notebook\n",
    "\n",
    "In Datalore, you can edit notebooks together with your team in real time.\n",
    "\n",
    "Click on the Share button in the top-right corner and choose your preferred sharing method:\n",
    "- Share by sending a link (the simpler option).\n",
    "- Invite collaborators by email (for more granular permissions).\n",
    "- Share with groups of collaborators. Please contact your Datalore admins to find out whether you have groups integrated with Datalore.\n",
    "  \n",
    "💡 To access notebooks as collaborators, invited users will need to create a Datalore account.\n",
    "\n",
    "<div><img src=\"https:\/\/datalore-samples.s3.eu-west-1.amazonaws.com\/getting-started\/videos_new\/Sharing2.png\" width = 900 border=\"2\" style=\"border-color: #d3d3d3; margin-top: 1%;\"\/><\/div>\n",
    "\n",
    "When sharing a notebook you can provide either edit or view access.\n",
    "- **Edit access** will allow collaborators to edit code and attached files and run computations.\n",
    "  \n",
    "  ⚠️ Note that collaborators will consume the notebook owner's resources.\n",
    "- **View access** will only allow users to see the real-time representation of the notebook.\n",
    "  \n",
    "To track the changes, Datalore has a **built-in version control system** where you can create history checkpoints and revert the notebook to past versions. Check this out via ***Tools | History***.\n",
    "\n",
    "You can read more about notebook sharing [here](https:\/\/www.jetbrains.com\/help\/datalore\/share-a-notebook.html)."
   ],
   "attachments":{
    
   },
   "metadata":{
    "datalore":{
     "node_id":"GQlc2P4odlgIxJvTjTKOFq",
     "type":"MD",
     "hide_input_from_viewers":false,
     "hide_output_from_viewers":false,
     "report_properties":{
      "rowId":"kHLVYkBrfCVte8cmzqVmcK"
     }
    }
   }
  },
  {
   "cell_type":"markdown",
   "source":[
    "### Task: Invite your colleagues to Datalore!\n",
    "\n",
    "Try out the real-time collaboration feature with your colleagues. Working together can be a lot of fun. 🚀\n",
    "\n",
    "To **track your collaborator's actions** through the notebook and attached files, click on their avatar in the upper right-hand corner and start following along!\n",
    "\n",
    "<div><img src=\"https:\/\/datalore-samples.s3.eu-west-1.amazonaws.com\/getting-started\/videos_new\/Main_teamwork.png\" width = 900 border=\"2\" style=\"border-color: #d3d3d3; margin-top: 1%;\"\/><\/div>"
   ],
   "attachments":{
    
   },
   "metadata":{
    "datalore":{
     "node_id":"gXnjHFGTDd1jk5ytyxkQPm",
     "type":"MD",
     "hide_input_from_viewers":false,
     "hide_output_from_viewers":false,
     "report_properties":{
      "rowId":"txLXAsfRNcbZxxOiIsCnhM"
     }
    }
   }
  },
  {
   "cell_type":"markdown",
   "source":[
    "## Sharing a workspace\n",
    "\n",
    "In Datalore, you can create and share workspaces.\n",
    "\n",
    "Workspaces help you organize your work and allow you to easily share multiple notebooks, data connections, files, and reports with your team.\n",
    "\n",
    "\n",
    "<div><img src=\"https:\/\/datalore-samples.s3.eu-west-1.amazonaws.com\/datalore_gallery_of_samples\/Getting+started\/workspace.png\" width = 300 border=\"2\" style=\"border-color: #d3d3d3; margin-top: 1%;\"\/><\/div>\n",
    "\n",
    "⚠️ Note that the workspace owner's resources will be consumed for all the computations made in the workspace."
   ],
   "attachments":{
    
   },
   "metadata":{
    "datalore":{
     "node_id":"aY264QJ11naPUdSB1eki1U",
     "type":"MD",
     "hide_input_from_viewers":false,
     "hide_output_from_viewers":false,
     "report_properties":{
      "rowId":"9hSumTD8U38IS8SrhGkHXB"
     }
    }
   }
  },
  {
   "cell_type":"markdown",
   "source":[
    "# Reporting"
   ],
   "attachments":{
    
   },
   "metadata":{
    "datalore":{
     "node_id":"Reporting",
     "type":"MD",
     "hide_input_from_viewers":false,
     "hide_output_from_viewers":false,
     "sheet_delimiter":true
    }
   }
  },
  {
   "cell_type":"markdown",
   "source":[
    "# Reporting\n",
    "\n",
    "## Video tutorial\n",
    "\n",
    "<div align=\"center\"><video width=\"800\" height=\"450\" controls>\n",
    "\n",
    "<source src=\"https:\/\/datalore-samples.s3.eu-west-1.amazonaws.com\/getting-started\/videos_new\/5_Creating_Interactive_Reports_with_Datalore.mp4\">\n",
    "\n",
    "<\/video><\/div>"
   ],
   "attachments":{
    
   },
   "metadata":{
    "datalore":{
     "node_id":"L60bGt14yNjvHKNxpafNGB",
     "type":"MD",
     "hide_input_from_viewers":false,
     "hide_output_from_viewers":false,
     "report_properties":{
      "rowId":"YfSV9NX13C0tljeYmglsmi"
     }
    }
   }
  },
  {
   "cell_type":"markdown",
   "source":[
    "\n",
    "## Report builder\n",
    "\n",
    "To share your research results with stakeholders, you can use the Report builder feature via the *Tools* menu section or by clicking the *Build report* button in the upper right-hand corner.\n",
    "\n",
    "You will be able to:\n",
    "- Arrange the cells on a canvas to make the report look more dashboard-style.\n",
    "- Hide specific cell inputs and outputs.\n",
    "- Publish a static or interactive report.\n",
    "\n",
    "<div><img src=\"https:\/\/datalore-samples.s3.eu-west-1.amazonaws.com\/getting-started\/videos_new\/Report_builder2.png\" width = 900 border=\"2\" style=\"border-color: #d3d3d3; margin-top: 1%;\"\/><\/div>"
   ],
   "attachments":{
    
   },
   "metadata":{
    "datalore":{
     "node_id":"3CxN0ZsynJPikvTPFGQprB",
     "type":"MD",
     "hide_input_from_viewers":false,
     "hide_output_from_viewers":false,
     "report_properties":{
      "rowId":"cR7AuEVdnO2YnLqU8ceBTH"
     }
    }
   }
  },
  {
   "cell_type":"markdown",
   "source":[
    "### Task: Create a report out of this notebook!"
   ],
   "attachments":{
    
   },
   "metadata":{
    "datalore":{
     "node_id":"UrmBzVxnXemyOOCX0QrRPm",
     "type":"MD",
     "hide_input_from_viewers":false,
     "hide_output_from_viewers":false,
     "report_properties":{
      "rowId":"tzh8KVxbmRfWmfCBTSbhkE"
     }
    }
   }
  },
  {
   "cell_type":"markdown",
   "source":[
    "## Sharing reports\n",
    "After you publish a report, it will become available under a link. You can then share it with colleagues even if they don't have a Datalore account – the report will be available for them inside the browser. Each report viewer will get a separate copy of the report and will be able to interact with the controls and rerun the report independently.\n",
    "\n",
    "You can also access **all the workspace reports** from the Published reports section in your Workspace file system."
   ],
   "attachments":{
    
   },
   "metadata":{
    "datalore":{
     "node_id":"LwelxqJJ2fFAkEW9QLQNhM",
     "type":"MD",
     "hide_input_from_viewers":false,
     "hide_output_from_viewers":false,
     "report_properties":{
      "rowId":"03YrAxk6qbQUAoIBsKfRMU"
     }
    }
   }
  },
  {
   "cell_type":"markdown",
   "source":[
    "## Export as PDF, PY, IPYNB\n",
    "\n",
    "You can export notebooks in multiple formats, including PDF.\n",
    "\n",
    "Go to the *File* menu tab and select the export option you need."
   ],
   "attachments":{
    
   },
   "metadata":{
    "datalore":{
     "node_id":"9YAMnWljo4jSyrqKX5tF22",
     "type":"MD",
     "hide_input_from_viewers":false,
     "hide_output_from_viewers":false,
     "report_properties":{
      "rowId":"UYAAiUVTitEZU4i2B3coZT"
     }
    }
   }
  },
  {
   "cell_type":"markdown",
   "source":[
    "# Automations"
   ],
   "attachments":{
    
   },
   "metadata":{
    "datalore":{
     "node_id":"Automations",
     "type":"MD",
     "hide_input_from_viewers":false,
     "hide_output_from_viewers":false,
     "sheet_delimiter":true
    }
   }
  },
  {
   "cell_type":"markdown",
   "source":[
    "# Automations\n",
    "\n",
    "## Video tutorial\n",
    "\n",
    "<div align=\"center\"><video width=\"800\" height=\"450\" controls>\n",
    "\n",
    "<source src=\"https:\/\/datalore-samples.s3.eu-west-1.amazonaws.com\/getting-started\/videos_new\/6_Creating_Schedules_and_Configuring_Computation_in_Datalore.mp4\">\n",
    "\n",
    "<\/video><\/div>"
   ],
   "attachments":{
    
   },
   "metadata":{
    "datalore":{
     "node_id":"o6bClnJ1uXpatAzm0QBjMb",
     "type":"MD",
     "hide_input_from_viewers":false,
     "hide_output_from_viewers":false,
     "report_properties":{
      "rowId":"XJd3ItkM9gDLEZzC7ejmS8"
     }
    }
   }
  },
  {
   "cell_type":"markdown",
   "source":[
    "## Scheduled runs\n",
    "\n",
    "In Datalore, you can schedule your notebook to run on a regular basis. Go to the Computation tab and create a schedule in the Scheduled runs widget. You'll be able to configure the running interval by using the dropdowns or by specifying a cron string.\n",
    "\n",
    "<div><img src=\"https:\/\/datalore-samples.s3.eu-west-1.amazonaws.com\/getting-started\/videos_new\/scheduling2.png\" width = 900 border=\"2\" style=\"border-color: #d3d3d3; margin-top: 1%;\"\/><\/div>"
   ],
   "attachments":{
    
   },
   "metadata":{
    "datalore":{
     "node_id":"5mZbleBKRsUGLDl1rVfFdZ",
     "type":"MD",
     "hide_input_from_viewers":false,
     "hide_output_from_viewers":false,
     "report_properties":{
      "rowId":"0C1z36xRm4TiJsvFQqOabs"
     }
    }
   }
  },
  {
   "cell_type":"markdown",
   "source":[
    "### Scheduled report updates\n",
    "\n",
    "When configuring notebook schedules, you can choose to automatically update published reports, delivering regular updates to your stakeholders.\n",
    "\n",
    "### Managing the schedules\n",
    "\n",
    "You can view and edit all the schedules of the workspace from the file system. You'll be able to view your run results and change the scheduling settings."
   ],
   "attachments":{
    
   },
   "metadata":{
    "datalore":{
     "node_id":"clpshtmPJGcxqfuZeNDGWC",
     "type":"MD",
     "hide_input_from_viewers":false,
     "hide_output_from_viewers":false,
     "report_properties":{
      "rowId":"H2S5SIhFiMHZRmDR3E20G0"
     }
    }
   }
  },
  {
   "cell_type":"markdown",
   "source":[
    "## Switching between CPU and GPU\n",
    "\n",
    "When running a notebook, you can choose between available machines according to your needs. The Computation tab will also show you the CPU and RAM load statistics. The computation status bar is located in the bottom right-hand corner of the editor.\n",
    "\n",
    "<div><img src=\"https:\/\/datalore-samples.s3.eu-west-1.amazonaws.com\/getting-started\/videos_new\/Changing_machine_type.png\" width = 300 border=\"2\" style=\"border-color: #d3d3d3; margin-top: 1%;\"\/><\/div>"
   ],
   "attachments":{
    
   },
   "metadata":{
    "datalore":{
     "node_id":"NIUpHTHcn1ZpV1k82kymW7",
     "type":"MD",
     "hide_input_from_viewers":false,
     "hide_output_from_viewers":false,
     "report_properties":{
      "rowId":"rxnDf2Qm9OWrliHV7TPvqi"
     }
    }
   }
  },
  {
   "cell_type":"markdown",
   "source":[
    "## Background computation\n",
    " \n",
    "Switching on Background computation from the Computation tab allows you to keep notebooks running even if you close the browser tab. \n",
    "\n",
    "Learn more about Background computation [here](https:\/\/helpserver.labs.jb.gg\/help\/datalore\/machine-management.html#computation-modes).\n",
    "\n",
    "⚠️ Be careful when switching on Background computation, as it will consume your computation quota."
   ],
   "attachments":{
    
   },
   "metadata":{
    "datalore":{
     "node_id":"pj8KvtZwrugV81CKSnoAki",
     "type":"MD",
     "hide_input_from_viewers":false,
     "hide_output_from_viewers":false,
     "report_properties":{
      "rowId":"QhQS8x59bukRGpMt7HPtS9"
     }
    }
   }
  },
  {
   "cell_type":"markdown",
   "source":[
    "## Shortcuts 101\n",
    "\n",
    "Datalore supports a wide variety of Jupyter and PyCharm shortcuts. You can access the full list from *Help | Shortcuts* or by pressing `Shift+F1`.\n",
    "\n",
    "<div><img src=\"https:\/\/datalore-samples.s3.eu-west-1.amazonaws.com\/datalore_gallery_of_samples\/Getting+started\/Shortcuts.png\" width = 300 border=\"1\" style=\"border-color: #d3d3d3; margin-top: 1%;\"\/><\/div>\n",
    "\n",
    "### Command mode and Editor mode\n",
    "\n",
    "There are two modes for shortcuts: Command mode and Editor mode.\n",
    "\n",
    "When editing a cell's content you are in Editor mode. To access Command mode, which allows you to manipulate the cells themselves, press `Esc`. To switch back to Editor mode, press `Enter`."
   ],
   "attachments":{
    
   },
   "metadata":{
    "datalore":{
     "node_id":"djlPgB5Vrk6iSrJ5pUVMvY",
     "type":"MD",
     "hide_input_from_viewers":false,
     "hide_output_from_viewers":false,
     "report_properties":{
      "rowId":"XA6YV2NzMkAUyEH37XMVE3"
     }
    }
   }
  },
  {
   "cell_type":"markdown",
   "source":[
    "### Some of the most often used shortcuts include:\n",
    "\n",
    "- Run the selected cell and select below: `Shift+Enter`.\n",
    "- Change cell type: `Command+M\/Ctrl+M`.\n",
    "- Undo action: `Command+Z\/Ctrl+Z`.\n",
    "- Delete cell: `DD` (Command mode).\n",
    "- Insert cell above: `A` (Command mode).\n",
    "- Insert cell below: `B` (Command mode).\n",
    "- Copy selected cells: `C` (Command mode).\n",
    "- Cut selected cells: `X` (Command mode).\n",
    "- Paste below: `V` (Command mode)."
   ],
   "attachments":{
    
   },
   "metadata":{
    "datalore":{
     "node_id":"ZXW9McxHPxT1BGJcsqpaoc",
     "type":"MD",
     "hide_input_from_viewers":false,
     "hide_output_from_viewers":false,
     "report_properties":{
      "rowId":"wXYMzjBaZtD3C4gv38jAGR"
     }
    }
   }
  },
  {
   "cell_type":"markdown",
   "source":[
    "### Command palette\n",
    "\n",
    "Access quick actions using the Command palette from the Help menu tab.\n",
    "\n",
    "<div><img src=\"https:\/\/datalore-samples.s3.eu-west-1.amazonaws.com\/datalore_gallery_of_samples\/Getting+started\/Command_palette.png\" width = 300 border=\"1\" style=\"border-color: #d3d3d3; margin-top: 1%;\"\/><\/div>"
   ],
   "attachments":{
    
   },
   "metadata":{
    "datalore":{
     "node_id":"gtaNW2TtHOaKNPczSX2LWk",
     "type":"MD",
     "hide_input_from_viewers":false,
     "hide_output_from_viewers":false,
     "report_properties":{
      "rowId":"yc66etxZadJO7oVMbckBTP"
     }
    }
   }
  },
  {
   "cell_type":"markdown",
   "source":[
    "# Tutorials"
   ],
   "attachments":{
    
   },
   "metadata":{
    "datalore":{
     "node_id":"Tutorials",
     "type":"MD",
     "hide_input_from_viewers":false,
     "hide_output_from_viewers":false,
     "sheet_delimiter":true
    }
   }
  },
  {
   "cell_type":"markdown",
   "source":[
    "# Tutorial Gallery, Updates, Contact info\n",
    "\n",
    "We regularly post tips & tricks on our [blog](https:\/\/blog.jetbrains.com\/datalore\/) and on[Twitter](https:\/\/twitter.com\/Datalore)! Check them out and subscribe to get the most out of Datalore.\n",
    "\n",
    "## Basic tutorials\n",
    "\n",
    "- [Pandas Tutorial: 10 Most Popular Questions for Python Data Frames](https:\/\/datalore.jetbrains.com\/view\/notebook\/6gojhrbqOlQNBil7H542XF)\n",
    "- [Visualization Tutorial With Seaborn](https:\/\/datalore.jetbrains.com\/view\/notebook\/v8mLoENq8XTfmStTCLNMV6)\n",
    "- [Visualization With Pyplot in Datalore](https:\/\/datalore.jetbrains.com\/view\/notebook\/Rk9o3SlkJAd47e8plzm0dV)\n",
    "- [Interactive Controls Tutorial](https:\/\/datalore.jetbrains.com\/view\/notebook\/sQPS7uBqNrBiu7t7uQXV74)\n",
    "- [Lets-Plot Usage Guide](https:\/\/datalore.jetbrains.com\/view\/notebook\/nsYaTYEEYG1wGIaqa2bWr5)\n",
    "- [Exploratory Data Analysis in Practice](https:\/\/blog.jetbrains.com\/datalore\/2022\/09\/05\/exploratory-data-analysis-in-practice\/)\n",
    "\n",
    "## Cool notebook samples\n",
    "\n",
    "- [10,000,000 Jupyter Notebooks Analyzed](https:\/\/datalore.jetbrains.com\/view\/notebook\/F7aMWFiuETFIWCo9BoxAtv)\n",
    "- [Random Forest, Trees, and Stumps 🌳🌴🌲 A General Overview of Binary Classification Models](https:\/\/datalore.jetbrains.com\/view\/notebook\/feUEhlTKRkbohY59fq18fN)\n",
    "\n",
    "## Webinars\n",
    "- [Is Your Analysis Reproducible? 5 Ways to Make Your Work Bulletproof With Datalore](https:\/\/www.youtube.com\/watch?v=MIctg07feIc)\n",
    "- [5 Tips for Combining Python and SQL in Datalore](https:\/\/www.youtube.com\/watch?v=5lPTshUFpW8)\n",
    "\n",
    "## Video Tutorials\n",
    "- [5 tips for using SQL cells in Datalore](https:\/\/www.youtube.com\/watch?v=xHlahGVq_BE)\n",
    "- [5 Tips for Creating Interactive Reports with Python in Datalore](https:\/\/www.youtube.com\/watch?v=cyYpQMRUOdE)"
   ],
   "attachments":{
    
   },
   "metadata":{
    "datalore":{
     "node_id":"pfZnzFum6p7F8EpKZWvc9m",
     "type":"MD",
     "hide_input_from_viewers":false,
     "hide_output_from_viewers":false,
     "report_properties":{
      "rowId":"uWopZgiEj9Z4W8gipfstxW"
     }
    }
   }
  },
  {
   "cell_type":"markdown",
   "source":[
    "## How to get support\n",
    "\n",
    "What really helps us make the Datalore product better is your feedback. Our team is always thankful when you tell us about your experience or report bugs.\n",
    "\n",
    "Feel free to share your feedback with us and report any issues by:\n",
    "\n",
    "- Writing a post on our [public forum](https:\/\/datalore-forum.jetbrains.com\/).\n",
    "- Emailing us at datalore-enterprise@jetbrains.com."
   ],
   "attachments":{
    
   },
   "metadata":{
    "datalore":{
     "node_id":"taA28GYDW0xLrRVLmaFK0l",
     "type":"MD",
     "hide_input_from_viewers":false,
     "hide_output_from_viewers":false,
     "report_properties":{
      "rowId":"ql8vy8h09tCIW2inHxQBO5"
     }
    }
   }
  },
  {
   "cell_type":"markdown",
   "source":[
    "# Actual Project"
   ],
   "attachments":{
    
   },
   "metadata":{
    "datalore":{
     "node_id":"Actual Project",
     "type":"MD",
     "hide_input_from_viewers":false,
     "hide_output_from_viewers":false,
     "sheet_delimiter":true
    }
   }
  },
  {
   "cell_type":"code",
   "source":[
    "import pandas as pd\n",
    "from sklearn.linear_model import LinearRegression\n",
    "from sklearn.tree import DecisionTreeRegressor\n",
    "from sklearn.metrics import mean_squared_error, r2_score\n",
    "import matplotlib.pyplot as plt"
   ],
   "execution_count":1,
   "outputs":[
    
   ],
   "metadata":{
    "datalore":{
     "node_id":"dBpThi4FJFAJHQURoNTBwj",
     "type":"CODE",
     "hide_input_from_viewers":true,
     "hide_output_from_viewers":true
    }
   }
  },
  {
   "cell_type":"code",
   "source":[
    "#  Converts the CSV into a Pandas DataFrame\n",
    "#  Using relative location, for absolute location use pd.read_csv(r'FILEPATH')\n",
    "data = pd.read_csv('Solar_Energy_Production.csv')\n",
    "data['date'] = pd.to_datetime(data['date'])"
   ],
   "execution_count":2,
   "outputs":[
    
   ],
   "metadata":{
    "datalore":{
     "node_id":"zKN4zgFH0PpOxxS5QG6p1b",
     "type":"CODE",
     "hide_input_from_viewers":true,
     "hide_output_from_viewers":true
    }
   }
  },
  {
   "cell_type":"code",
   "source":[
    "#  Creates a copy of the data set with only date and kwh production\n",
    "df_dkwh = data.drop(columns=['name', 'id', 'address', 'public_url', 'installationDate', 'uid'])"
   ],
   "execution_count":3,
   "outputs":[
    
   ],
   "metadata":{
    "datalore":{
     "node_id":"tFLMvhGD1GzBBk0ecLyhmI",
     "type":"CODE",
     "hide_input_from_viewers":true,
     "hide_output_from_viewers":true
    }
   }
  },
  {
   "cell_type":"code",
   "source":[
    "#  Making a monthly view of power output\n",
    "mdf = df_dkwh.resample(rule='M', on='date')['kWh'].sum()\n",
    "monthlyx = mdf.index\n",
    "monthlyy = mdf\n",
    "plt.bar(monthlyx, monthlyy,width=25)\n",
    "plt.show()"
   ],
   "execution_count":4,
   "outputs":[
    {
     "name":"stdout",
     "text":[
      "date\n",
      "2015-09-30    15475.746\n",
      "2015-10-31    15068.149\n",
      "2015-11-30     4302.924\n",
      "2015-12-31     1722.964\n",
      "2016-01-31     3081.863\n",
      "                ...    \n",
      "2022-11-30    23291.860\n",
      "2022-12-31     8858.302\n",
      "2023-01-31    26645.993\n",
      "2023-02-28    45639.800\n",
      "2023-03-31    24018.511\n",
      "Freq: M, Name: kWh, Length: 91, dtype: float64\n"
     ],
     "output_type":"stream"
    },
    {
     "data":{
      "image\/png":"[encoded data removed]"
     },
     "metadata":{
      "image\/png":{
       
      }
     },
     "output_type":"display_data"
    }
   ],
   "metadata":{
    "datalore":{
     "node_id":"5oE3e7Ekr4S3kkXH9B4MW5",
     "type":"CODE",
     "hide_input_from_viewers":true,
     "hide_output_from_viewers":true
    }
   }
  },
  {
   "cell_type":"code",
   "source":[
    "#  Continuing to prepare the data\n",
    "df_dkwh = df_dkwh.set_index('date')\n",
    "df_dkwh = df_dkwh.groupby([df_dkwh.index.date])['kWh'].sum()\n",
    "df_dkwh = df_dkwh.reset_index()\n",
    "df_dkwh = df_dkwh.rename(columns={'index': 'date'})\n",
    "features = [\"year\", \"month\", \"day\"]\n",
    "df_dkwh[features] = df_dkwh.apply(lambda row: pd.Series({\"year\":row.date.year, \"month\":row.date.month, \"day\":row.date.day}), axis=1)"
   ],
   "execution_count":5,
   "outputs":[
    {
     "name":"stdout",
     "text":[
      "            date       kWh  year  month  day\n",
      "0     2015-09-01   286.013  2015      9    1\n",
      "1     2015-09-02   681.646  2015      9    2\n",
      "2     2015-09-03   647.906  2015      9    3\n",
      "3     2015-09-04   102.448  2015      9    4\n",
      "4     2015-09-05    93.432  2015      9    5\n",
      "...          ...       ...   ...    ...  ...\n",
      "2711  2023-03-12  1705.099  2023      3   12\n",
      "2712  2023-03-13  1476.824  2023      3   13\n",
      "2713  2023-03-14  1988.782  2023      3   14\n",
      "2714  2023-03-15  2983.315  2023      3   15\n",
      "2715  2023-03-16  3513.182  2023      3   16\n",
      "\n",
      "[2716 rows x 5 columns]\n"
     ],
     "output_type":"stream"
    }
   ],
   "metadata":{
    "datalore":{
     "node_id":"zymV9CKIlpAshIXrW4mZYA",
     "type":"CODE",
     "hide_input_from_viewers":true,
     "hide_output_from_viewers":true
    }
   }
  },
  {
   "cell_type":"code",
   "source":[
    "#  Splits the testing and training sets before and after target date\n",
    "split_date = pd.Timestamp('2021-01-01')\n",
    "dftest = df_dkwh.loc[df_dkwh['date'] >= split_date.date()]\n",
    "dftrain = df_dkwh.loc[df_dkwh['date'] < split_date.date()]"
   ],
   "execution_count":6,
   "outputs":[
    
   ],
   "metadata":{
    "datalore":{
     "node_id":"ZW0iPkvp40ZQV7JFMyVFs2",
     "type":"CODE",
     "hide_input_from_viewers":true,
     "hide_output_from_viewers":true
    }
   }
  },
  {
   "cell_type":"code",
   "source":[
    "#  Setting up training and testing sets\n",
    "testplot = dftest['date']\n",
    "trainplot = dftrain['date']\n",
    "Xtest = dftest.drop(columns=['kWh', 'date'])\n",
    "Ytest = dftest['kWh']\n",
    "Xtrain = dftrain.drop(columns=['kWh', 'date'])\n",
    "Ytrain = dftrain['kWh']"
   ],
   "execution_count":7,
   "outputs":[
    
   ],
   "metadata":{
    "datalore":{
     "node_id":"uX5h5xP0BjHb0g02ppYZfW",
     "type":"CODE",
     "hide_input_from_viewers":true,
     "hide_output_from_viewers":true
    }
   }
  },
  {
   "cell_type":"code",
   "source":[
    "#  Reshaping data\n",
    "Ytrain = Ytrain.array.reshape((-1, 1))\n",
    "Ytest = Ytest.array.reshape((-1, 1))"
   ],
   "execution_count":8,
   "outputs":[
    
   ],
   "metadata":{
    "datalore":{
     "node_id":"wO1PJnMnGVJWKq8TkaE616",
     "type":"CODE",
     "hide_input_from_viewers":true,
     "hide_output_from_viewers":true
    }
   }
  },
  {
   "cell_type":"code",
   "source":[
    "#  Instantiating the models\n",
    "modelLR = LinearRegression()\n",
    "modelLR.fit(Xtrain.values, Ytrain)\n",
    "modelDTR = DecisionTreeRegressor()\n",
    "modelDTR.fit(Xtrain.values, Ytrain)"
   ],
   "execution_count":19,
   "outputs":[
    {
     "data":{
      "text\/plain":[
       "DecisionTreeRegressor()"
      ]
     },
     "metadata":{
      
     },
     "output_type":"display_data"
    }
   ],
   "metadata":{
    "datalore":{
     "node_id":"2KpL1GDVOvNKyKvsvicekt",
     "type":"CODE",
     "hide_input_from_viewers":true,
     "hide_output_from_viewers":true
    }
   }
  },
  {
   "cell_type":"code",
   "source":[
    "#  Predictions\n",
    "LRpred = modelLR.predict(Xtest)\n",
    "DTRpred = modelDTR.predict(Xtest)"
   ],
   "execution_count":10,
   "outputs":[
    
   ],
   "metadata":{
    "datalore":{
     "node_id":"mOubxhmXmLhBLxyJMuQBDc",
     "type":"CODE",
     "hide_input_from_viewers":true,
     "hide_output_from_viewers":true
    }
   }
  },
  {
   "cell_type":"code",
   "source":[
    "#  Testing\n",
    "#  Plotting the expected results alongside what the two models returned\n",
    "modeltest = pd.DataFrame(testplot)\n",
    "modeltest['Test kWh'] = Ytest\n",
    "modeltest['LR'] = LRpred\n",
    "modeltest['DTR'] = DTRpred\n",
    "modeltest['date'] = pd.to_datetime(modeltest['date'])\n",
    "modeltest = modeltest.resample(rule='M', on='date')['Test kWh', 'LR', 'DTR'].sum()\n",
    "plt.bar(modeltest.index - pd.Timedelta(20, unit='d'), modeltest['Test kWh'], label=\"Test kWh\", color='black', width=10)\n",
    "plt.bar(modeltest.index - pd.Timedelta(10, unit='d'), modeltest['LR'], label=\"LR\", color='blue', width=10)\n",
    "plt.bar(modeltest.index, modeltest['DTR'], label=\"DTR\", color='red', width=10)\n",
    "plt.legend()\n",
    "plt.show()\n",
    "print(mean_squared_error(modeltest['LR'], modeltest['Test kWh']))\n",
    "print(mean_squared_error(modeltest['DTR'], modeltest['Test kWh']))\n",
    "print(r2_score(modeltest['LR'], modeltest['Test kWh']))\n",
    "print(r2_score(modeltest['DTR'], modeltest['Test kWh']))"
   ],
   "execution_count":11,
   "outputs":[
    {
     "name":"stdout",
     "text":[
      "16033859950.952404\n",
      "1306922863.7878218\n",
      "-23.525722442206167\n",
      "0.821800106990774\n"
     ],
     "output_type":"stream"
    },
    {
     "data":{
      "image\/png":"[encoded data removed]"
     },
     "metadata":{
      "image\/png":{
       
      }
     },
     "output_type":"display_data"
    }
   ],
   "metadata":{
    "datalore":{
     "node_id":"sGWC6R1gYbAfqOmW3DM37D",
     "type":"CODE",
     "hide_input_from_viewers":true,
     "hide_output_from_viewers":true
    }
   }
  },
  {
   "cell_type":"code",
   "source":[
    "#  Plotting the daily comparison\n",
    "plt.title('Power Output')\n",
    "plt.xlabel('Date')\n",
    "plt.ylabel('kWh')\n",
    "plt.scatter(trainplot, Ytrain, color='black')\n",
    "plt.plot(testplot, LRpred, color='blue')  # Linear Regression plot\n",
    "plt.plot(testplot, DTRpred, color='orange')  # DT Regressor plot\n",
    "plt.scatter(testplot, Ytest, color='red')  # Testing reference plot\n",
    "plt.show()"
   ],
   "execution_count":12,
   "outputs":[
    {
     "data":{
      "image\/png":"[encoded data removed]"
     },
     "metadata":{
      "image\/png":{
       
      }
     },
     "output_type":"display_data"
    }
   ],
   "metadata":{
    "datalore":{
     "node_id":"H1HPH14xrsdKGkPP3DPmTi",
     "type":"CODE",
     "hide_input_from_viewers":true,
     "hide_output_from_viewers":true
    }
   }
  },
  {
   "cell_type":"code",
   "source":[
    "#  User interactivity\n",
    "#  See what the different models predict kWh output based on the date set in the userday variable\n",
    "userday = [[2020, 1, 1], ]\n",
    "print(userday)\n",
    "print(\"The Linear Regression model predicts:\")\n",
    "print(modelLR.predict(userday))\n",
    "print(\"The Decision Tree Regressor model predicts:\")\n",
    "print(modelDTR.predict(userday))"
   ],
   "execution_count":22,
   "outputs":[
    {
     "name":"stdout",
     "text":[
      "[[2020, 1, 1]]\n",
      "The Linear Regression model predicts:\n",
      "[[5716.62721322]]\n",
      "The Decision Tree Regressor model predicts:\n",
      "[1052.155]\n"
     ],
     "output_type":"stream"
    }
   ],
   "metadata":{
    "datalore":{
     "node_id":"ZDCew6kk3BENA645qzvBPu",
     "type":"CODE",
     "hide_input_from_viewers":true,
     "hide_output_from_viewers":true
    }
   }
  }
 ],
 "metadata":{
  "kernelspec":{
   "display_name":"Python",
   "language":"python",
   "name":"python"
  },
  "datalore":{
   "computation_mode":"JUPYTER",
   "package_manager":"pip",
   "base_environment":"default",
   "packages":[
    
   ],
   "report_row_ids":[
    "HxNhleO9acH4lzphHV724G",
    "O6onNO6MfzPrwRrgYAnOAH",
    "ouiQ32wS1aFCMFWiOFFVV8",
    "lpZmOvd9yxF7IGmNXVBfBb",
    "Di8laBbj9Ky4EtQTMhJG0X",
    "EZDPOW2QysAiXIy9yAiYEZ",
    "Aqga6pNGB4R4qKvfH1Rvqw",
    "NS4Qy1m4TFhZUtCYLRljpi",
    "8MMdD2kWk5JBVQwfPB8vfn",
    "hTBjwrM2GYZGnbnjfbzSS0",
    "m6SX6lWJzut5WjJYRhIOju",
    "Ocma96WS02nQnhgOuRH0LK",
    "Yj8BmsMAKsufEB8U7Qke5k",
    "OGCjUj65RtGqZ3XfYea19x",
    "Tbr9F7SRNWKEIvcN2rH9fB",
    "PoHDDfOHgiYQpoA6K4PdbL",
    "iY2bMptJAAC0lYCogV3M1E",
    "Rp8DDUpHIJnI6tmQYq5GAF",
    "RwLeZ7JFpdPlY0uEvTRucT",
    "HKjpQ1cA3LnWge0PffgGOk",
    "meZoBjby5m7WI6pE1c6I6n",
    "Fb3reR6Rw0oYoJzhjCaLjY",
    "pByJ8u5c7MAvxODWpt9BDW",
    "kHLVYkBrfCVte8cmzqVmcK",
    "txLXAsfRNcbZxxOiIsCnhM",
    "9hSumTD8U38IS8SrhGkHXB",
    "YfSV9NX13C0tljeYmglsmi",
    "cR7AuEVdnO2YnLqU8ceBTH",
    "tzh8KVxbmRfWmfCBTSbhkE",
    "03YrAxk6qbQUAoIBsKfRMU",
    "UYAAiUVTitEZU4i2B3coZT",
    "XJd3ItkM9gDLEZzC7ejmS8",
    "0C1z36xRm4TiJsvFQqOabs",
    "H2S5SIhFiMHZRmDR3E20G0",
    "rxnDf2Qm9OWrliHV7TPvqi",
    "QhQS8x59bukRGpMt7HPtS9",
    "XA6YV2NzMkAUyEH37XMVE3",
    "wXYMzjBaZtD3C4gv38jAGR",
    "yc66etxZadJO7oVMbckBTP",
    "uWopZgiEj9Z4W8gipfstxW",
    "ql8vy8h09tCIW2inHxQBO5"
   ],
   "version":3
  }
 },
 "nbformat":4,
 "nbformat_minor":4
}