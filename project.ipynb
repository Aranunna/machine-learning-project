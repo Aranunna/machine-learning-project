{
 "cells":[
  {
   "cell_type":"markdown",
   "source":[
    "# Solar Power Prediction Model"
   ],
   "attachments":{
    
   },
   "metadata":{
    "datalore":{
     "node_id":"Solar Power Prediction Model",
     "type":"MD",
     "hide_input_from_viewers":false,
     "hide_output_from_viewers":false,
     "sheet_delimiter":true
    }
   }
  },
  {
   "cell_type":"code",
   "source":[
    "import pandas as pd\n",
    "from sklearn.linear_model import LinearRegression\n",
    "from sklearn.tree import DecisionTreeRegressor\n",
    "from sklearn.metrics import mean_squared_error, r2_score\n",
    "import matplotlib.pyplot as plt"
   ],
   "execution_count":1,
   "outputs":[
    
   ],
   "metadata":{
    "datalore":{
     "node_id":"dBpThi4FJFAJHQURoNTBwj",
     "type":"CODE",
     "hide_input_from_viewers":true,
     "hide_output_from_viewers":true
    }
   }
  },
  {
   "cell_type":"code",
   "source":[
    "#  Converts the CSV into a Pandas DataFrame\n",
    "#  Using relative location, for absolute location use pd.read_csv(r'FILEPATH')\n",
    "data = pd.read_csv('Solar_Energy_Production.csv')\n",
    "data['date'] = pd.to_datetime(data['date'])"
   ],
   "execution_count":2,
   "outputs":[
    
   ],
   "metadata":{
    "datalore":{
     "node_id":"zKN4zgFH0PpOxxS5QG6p1b",
     "type":"CODE",
     "hide_input_from_viewers":true,
     "hide_output_from_viewers":true
    }
   }
  },
  {
   "cell_type":"code",
   "source":[
    "#  Creates a copy of the data set with only date and kwh production\n",
    "df_dkwh = data.drop(columns=['name', 'id', 'address', 'public_url', 'installationDate', 'uid'])"
   ],
   "execution_count":3,
   "outputs":[
    
   ],
   "metadata":{
    "datalore":{
     "node_id":"tFLMvhGD1GzBBk0ecLyhmI",
     "type":"CODE",
     "hide_input_from_viewers":true,
     "hide_output_from_viewers":true
    }
   }
  },
  {
   "cell_type":"code",
   "source":[
    "#  Making a monthly view of power output\n",
    "mdf = df_dkwh.resample(rule='M', on='date')['kWh'].sum()\n",
    "monthlyx = mdf.index\n",
    "monthlyy = mdf\n",
    "plt.bar(monthlyx, monthlyy,width=25)\n",
    "plt.title('Solar Power Generation')\n",
    "plt.xlabel('Kilowatt-hours')\n",
    "plt.ylabel('Date')\n",
    "plt.show()"
   ],
   "execution_count":4,
   "outputs":[
    {
     "data":{
      "image\/png":"[encoded data removed]"
     },
     "metadata":{
      "image\/png":{
       
      }
     },
     "output_type":"display_data"
    }
   ],
   "metadata":{
    "datalore":{
     "node_id":"5oE3e7Ekr4S3kkXH9B4MW5",
     "type":"CODE",
     "hide_input_from_viewers":true,
     "hide_output_from_viewers":true
    }
   }
  },
  {
   "cell_type":"code",
   "source":[
    "#  Continuing to prepare the data\n",
    "df_dkwh = df_dkwh.set_index('date')\n",
    "df_dkwh = df_dkwh.groupby([df_dkwh.index.date])['kWh'].sum()\n",
    "df_dkwh = df_dkwh.reset_index()\n",
    "df_dkwh = df_dkwh.rename(columns={'index': 'date'})\n",
    "features = [\"year\", \"month\", \"day\"]\n",
    "df_dkwh[features] = df_dkwh.apply(lambda row: pd.Series({\"year\":row.date.year, \"month\":row.date.month, \"day\":row.date.day}), axis=1)"
   ],
   "execution_count":5,
   "outputs":[
    
   ],
   "metadata":{
    "datalore":{
     "node_id":"zymV9CKIlpAshIXrW4mZYA",
     "type":"CODE",
     "hide_input_from_viewers":true,
     "hide_output_from_viewers":true
    }
   }
  },
  {
   "cell_type":"code",
   "source":[
    "#  Splits the testing and training sets before and after target date\n",
    "split_date = pd.Timestamp('2021-01-01')\n",
    "dftest = df_dkwh.loc[df_dkwh['date'] >= split_date.date()]\n",
    "dftrain = df_dkwh.loc[df_dkwh['date'] < split_date.date()]"
   ],
   "execution_count":6,
   "outputs":[
    
   ],
   "metadata":{
    "datalore":{
     "node_id":"ZW0iPkvp40ZQV7JFMyVFs2",
     "type":"CODE",
     "hide_input_from_viewers":true,
     "hide_output_from_viewers":true
    }
   }
  },
  {
   "cell_type":"code",
   "source":[
    "#  Setting up training and testing sets\n",
    "testplot = dftest['date']\n",
    "trainplot = dftrain['date']\n",
    "Xtest = dftest.drop(columns=['kWh', 'date'])\n",
    "Ytest = dftest['kWh']\n",
    "Xtrain = dftrain.drop(columns=['kWh', 'date'])\n",
    "Ytrain = dftrain['kWh']"
   ],
   "execution_count":7,
   "outputs":[
    
   ],
   "metadata":{
    "datalore":{
     "node_id":"uX5h5xP0BjHb0g02ppYZfW",
     "type":"CODE",
     "hide_input_from_viewers":true,
     "hide_output_from_viewers":true
    }
   }
  },
  {
   "cell_type":"code",
   "source":[
    "#  Reshaping data\n",
    "Ytrain = Ytrain.array.reshape((-1, 1))\n",
    "Ytest = Ytest.array.reshape((-1, 1))"
   ],
   "execution_count":8,
   "outputs":[
    
   ],
   "metadata":{
    "datalore":{
     "node_id":"wO1PJnMnGVJWKq8TkaE616",
     "type":"CODE",
     "hide_input_from_viewers":true,
     "hide_output_from_viewers":true
    }
   }
  },
  {
   "cell_type":"code",
   "source":[
    "#  Instantiating the models\n",
    "modelLR = LinearRegression()\n",
    "modelLR.fit(Xtrain.values, Ytrain)\n",
    "modelDTR = DecisionTreeRegressor()\n",
    "modelDTR.fit(Xtrain.values, Ytrain)"
   ],
   "execution_count":9,
   "outputs":[
    {
     "data":{
      "text\/html":[
       "<style>#sk-container-id-1 {color: black;background-color: white;}#sk-container-id-1 pre{padding: 0;}#sk-container-id-1 div.sk-toggleable {background-color: white;}#sk-container-id-1 label.sk-toggleable__label {cursor: pointer;display: block;width: 100%;margin-bottom: 0;padding: 0.3em;box-sizing: border-box;text-align: center;}#sk-container-id-1 label.sk-toggleable__label-arrow:before {content: \"▸\";float: left;margin-right: 0.25em;color: #696969;}#sk-container-id-1 label.sk-toggleable__label-arrow:hover:before {color: black;}#sk-container-id-1 div.sk-estimator:hover label.sk-toggleable__label-arrow:before {color: black;}#sk-container-id-1 div.sk-toggleable__content {max-height: 0;max-width: 0;overflow: hidden;text-align: left;background-color: #f0f8ff;}#sk-container-id-1 div.sk-toggleable__content pre {margin: 0.2em;color: black;border-radius: 0.25em;background-color: #f0f8ff;}#sk-container-id-1 input.sk-toggleable__control:checked~div.sk-toggleable__content {max-height: 200px;max-width: 100%;overflow: auto;}#sk-container-id-1 input.sk-toggleable__control:checked~label.sk-toggleable__label-arrow:before {content: \"▾\";}#sk-container-id-1 div.sk-estimator input.sk-toggleable__control:checked~label.sk-toggleable__label {background-color: #d4ebff;}#sk-container-id-1 div.sk-label input.sk-toggleable__control:checked~label.sk-toggleable__label {background-color: #d4ebff;}#sk-container-id-1 input.sk-hidden--visually {border: 0;clip: rect(1px 1px 1px 1px);clip: rect(1px, 1px, 1px, 1px);height: 1px;margin: -1px;overflow: hidden;padding: 0;position: absolute;width: 1px;}#sk-container-id-1 div.sk-estimator {font-family: monospace;background-color: #f0f8ff;border: 1px dotted black;border-radius: 0.25em;box-sizing: border-box;margin-bottom: 0.5em;}#sk-container-id-1 div.sk-estimator:hover {background-color: #d4ebff;}#sk-container-id-1 div.sk-parallel-item::after {content: \"\";width: 100%;border-bottom: 1px solid gray;flex-grow: 1;}#sk-container-id-1 div.sk-label:hover label.sk-toggleable__label {background-color: #d4ebff;}#sk-container-id-1 div.sk-serial::before {content: \"\";position: absolute;border-left: 1px solid gray;box-sizing: border-box;top: 0;bottom: 0;left: 50%;z-index: 0;}#sk-container-id-1 div.sk-serial {display: flex;flex-direction: column;align-items: center;background-color: white;padding-right: 0.2em;padding-left: 0.2em;position: relative;}#sk-container-id-1 div.sk-item {position: relative;z-index: 1;}#sk-container-id-1 div.sk-parallel {display: flex;align-items: stretch;justify-content: center;background-color: white;position: relative;}#sk-container-id-1 div.sk-item::before, #sk-container-id-1 div.sk-parallel-item::before {content: \"\";position: absolute;border-left: 1px solid gray;box-sizing: border-box;top: 0;bottom: 0;left: 50%;z-index: -1;}#sk-container-id-1 div.sk-parallel-item {display: flex;flex-direction: column;z-index: 1;position: relative;background-color: white;}#sk-container-id-1 div.sk-parallel-item:first-child::after {align-self: flex-end;width: 50%;}#sk-container-id-1 div.sk-parallel-item:last-child::after {align-self: flex-start;width: 50%;}#sk-container-id-1 div.sk-parallel-item:only-child::after {width: 0;}#sk-container-id-1 div.sk-dashed-wrapped {border: 1px dashed gray;margin: 0 0.4em 0.5em 0.4em;box-sizing: border-box;padding-bottom: 0.4em;background-color: white;}#sk-container-id-1 div.sk-label label {font-family: monospace;font-weight: bold;display: inline-block;line-height: 1.2em;}#sk-container-id-1 div.sk-label-container {text-align: center;}#sk-container-id-1 div.sk-container {\/* jupyter's `normalize.less` sets `[hidden] { display: none; }` but bootstrap.min.css set `[hidden] { display: none !important; }` so we also need the `!important` here to be able to override the default hidden behavior on the sphinx rendered scikit-learn.org. See: https:\/\/github.com\/scikit-learn\/scikit-learn\/issues\/21755 *\/display: inline-block !important;position: relative;}#sk-container-id-1 div.sk-text-repr-fallback {display: none;}<\/style><div id=\"sk-container-id-1\" class=\"sk-top-container\"><div class=\"sk-text-repr-fallback\"><pre>DecisionTreeRegressor()<\/pre><b>In a Jupyter environment, please rerun this cell to show the HTML representation or trust the notebook. <br \/>On GitHub, the HTML representation is unable to render, please try loading this page with nbviewer.org.<\/b><\/div><div class=\"sk-container\" hidden><div class=\"sk-item\"><div class=\"sk-estimator sk-toggleable\"><input class=\"sk-toggleable__control sk-hidden--visually\" id=\"sk-estimator-id-1\" type=\"checkbox\" checked><label for=\"sk-estimator-id-1\" class=\"sk-toggleable__label sk-toggleable__label-arrow\">DecisionTreeRegressor<\/label><div class=\"sk-toggleable__content\"><pre>DecisionTreeRegressor()<\/pre><\/div><\/div><\/div><\/div><\/div>"
      ]
     },
     "metadata":{
      
     },
     "output_type":"display_data"
    }
   ],
   "metadata":{
    "datalore":{
     "node_id":"2KpL1GDVOvNKyKvsvicekt",
     "type":"CODE",
     "hide_input_from_viewers":true,
     "hide_output_from_viewers":true
    }
   }
  },
  {
   "cell_type":"code",
   "source":[
    "#  Predictions\n",
    "LRpred = modelLR.predict(Xtest.values)\n",
    "DTRpred = modelDTR.predict(Xtest.values)"
   ],
   "execution_count":10,
   "outputs":[
    
   ],
   "metadata":{
    "datalore":{
     "node_id":"mOubxhmXmLhBLxyJMuQBDc",
     "type":"CODE",
     "hide_input_from_viewers":true,
     "hide_output_from_viewers":true
    }
   }
  },
  {
   "cell_type":"code",
   "source":[
    "#  Testing\n",
    "#  Plotting the expected results alongside what the two models returned\n",
    "modeltest = pd.DataFrame(testplot)\n",
    "modeltest['Test kWh'] = Ytest\n",
    "modeltest['LR'] = LRpred\n",
    "modeltest['DTR'] = DTRpred\n",
    "modeltest['date'] = pd.to_datetime(modeltest['date'])\n",
    "modeltest = modeltest.resample(rule='M', on='date')['Test kWh', 'LR', 'DTR'].sum()\n",
    "plt.bar(modeltest.index - pd.Timedelta(20, unit='d'), modeltest['Test kWh'], label=\"Test kWh\", color='black', width=10)\n",
    "plt.bar(modeltest.index - pd.Timedelta(10, unit='d'), modeltest['LR'], label=\"LR\", color='blue', width=10)\n",
    "plt.bar(modeltest.index, modeltest['DTR'], label=\"DTR\", color='red', width=10)\n",
    "plt.legend()\n",
    "plt.show()\n",
    "print(\"The mean squared error of the linear regression model is:\")\n",
    "print(mean_squared_error(modeltest['LR'], modeltest['Test kWh']))\n",
    "print(\"The mean squared error of the decision tree regression model is:\")\n",
    "print(mean_squared_error(modeltest['DTR'], modeltest['Test kWh']))\n",
    "print(\"The R-squared of the decision tree regression model is:\")\n",
    "print(r2_score(modeltest['DTR'], modeltest['Test kWh']))"
   ],
   "execution_count":11,
   "outputs":[
    {
     "name":"stdout",
     "text":[
      "The mean squared error of the linear regression model is:\n",
      "16033859950.952404\n",
      "The mean squared error of the decision tree regression model is:\n",
      "1306922863.7878218\n",
      "The R-squared of the decision tree regression model is:\n",
      "0.821800106990774\n"
     ],
     "output_type":"stream"
    },
    {
     "data":{
      "image\/png":"[encoded data removed]"
     },
     "metadata":{
      "image\/png":{
       
      }
     },
     "output_type":"display_data"
    }
   ],
   "metadata":{
    "datalore":{
     "node_id":"sGWC6R1gYbAfqOmW3DM37D",
     "type":"CODE",
     "hide_input_from_viewers":true,
     "hide_output_from_viewers":true
    }
   }
  },
  {
   "cell_type":"code",
   "source":[
    "#  Plotting the daily comparison\n",
    "plt.title('Solar Power Generation')\n",
    "plt.xlabel('Date')\n",
    "plt.ylabel('kWh')\n",
    "plt.scatter(trainplot, Ytrain, label=\"Training Set\", color='black')\n",
    "plt.plot(testplot, LRpred, label=\"Linear Regression\", color='blue')  # Linear Regression plot\n",
    "plt.plot(testplot, DTRpred, label=\"Decision Tree Regressor\", color='orange')  # DT Regressor plot\n",
    "plt.scatter(testplot, Ytest, label=\"Test Set\", color='red')  # Testing reference plot\n",
    "plt.legend()\n",
    "plt.show()"
   ],
   "execution_count":12,
   "outputs":[
    {
     "data":{
      "image\/png":"[encoded data removed]"
     },
     "metadata":{
      "image\/png":{
       
      }
     },
     "output_type":"display_data"
    }
   ],
   "metadata":{
    "datalore":{
     "node_id":"H1HPH14xrsdKGkPP3DPmTi",
     "type":"CODE",
     "hide_input_from_viewers":true,
     "hide_output_from_viewers":true
    }
   }
  },
  {
   "cell_type":"code",
   "source":[
    "#  User interactivity\n",
    "#  See what the different models predict kWh output based on the date set in the userday variable\n",
    "userday = [[2020, 1, 1], ]\n",
    "print(userday)\n",
    "print(\"The Linear Regression model predicts:\")\n",
    "print(modelLR.predict(userday))\n",
    "print(\"The Decision Tree Regressor model predicts:\")\n",
    "print(modelDTR.predict(userday))"
   ],
   "execution_count":13,
   "outputs":[
    {
     "name":"stdout",
     "text":[
      "[[2020, 1, 1]]\n",
      "The Linear Regression model predicts:\n",
      "[[5716.62721322]]\n",
      "The Decision Tree Regressor model predicts:\n",
      "[1052.155]\n"
     ],
     "output_type":"stream"
    }
   ],
   "metadata":{
    "datalore":{
     "node_id":"ZDCew6kk3BENA645qzvBPu",
     "type":"CODE",
     "hide_input_from_viewers":true,
     "hide_output_from_viewers":true
    }
   }
  }
 ],
 "metadata":{
  "kernelspec":{
   "display_name":"Python",
   "language":"python",
   "name":"python"
  },
  "datalore":{
   "computation_mode":"JUPYTER",
   "package_manager":"pip",
   "base_environment":"default",
   "packages":[
    
   ],
   "report_row_ids":[
    "HxNhleO9acH4lzphHV724G",
    "O6onNO6MfzPrwRrgYAnOAH",
    "ouiQ32wS1aFCMFWiOFFVV8",
    "lpZmOvd9yxF7IGmNXVBfBb",
    "Di8laBbj9Ky4EtQTMhJG0X",
    "EZDPOW2QysAiXIy9yAiYEZ",
    "Aqga6pNGB4R4qKvfH1Rvqw",
    "NS4Qy1m4TFhZUtCYLRljpi",
    "8MMdD2kWk5JBVQwfPB8vfn",
    "hTBjwrM2GYZGnbnjfbzSS0",
    "m6SX6lWJzut5WjJYRhIOju",
    "Ocma96WS02nQnhgOuRH0LK",
    "Yj8BmsMAKsufEB8U7Qke5k",
    "OGCjUj65RtGqZ3XfYea19x",
    "Tbr9F7SRNWKEIvcN2rH9fB",
    "PoHDDfOHgiYQpoA6K4PdbL",
    "iY2bMptJAAC0lYCogV3M1E",
    "Rp8DDUpHIJnI6tmQYq5GAF",
    "RwLeZ7JFpdPlY0uEvTRucT",
    "HKjpQ1cA3LnWge0PffgGOk",
    "meZoBjby5m7WI6pE1c6I6n",
    "Fb3reR6Rw0oYoJzhjCaLjY",
    "pByJ8u5c7MAvxODWpt9BDW",
    "kHLVYkBrfCVte8cmzqVmcK",
    "txLXAsfRNcbZxxOiIsCnhM",
    "9hSumTD8U38IS8SrhGkHXB",
    "YfSV9NX13C0tljeYmglsmi",
    "cR7AuEVdnO2YnLqU8ceBTH",
    "tzh8KVxbmRfWmfCBTSbhkE",
    "03YrAxk6qbQUAoIBsKfRMU",
    "UYAAiUVTitEZU4i2B3coZT",
    "XJd3ItkM9gDLEZzC7ejmS8",
    "0C1z36xRm4TiJsvFQqOabs",
    "H2S5SIhFiMHZRmDR3E20G0",
    "rxnDf2Qm9OWrliHV7TPvqi",
    "QhQS8x59bukRGpMt7HPtS9",
    "XA6YV2NzMkAUyEH37XMVE3",
    "wXYMzjBaZtD3C4gv38jAGR",
    "yc66etxZadJO7oVMbckBTP",
    "uWopZgiEj9Z4W8gipfstxW",
    "ql8vy8h09tCIW2inHxQBO5"
   ],
   "version":3
  }
 },
 "nbformat":4,
 "nbformat_minor":4
}